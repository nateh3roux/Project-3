{
 "cells": [
  {
   "cell_type": "code",
   "execution_count": 1,
   "id": "030eb3e4",
   "metadata": {},
   "outputs": [
    {
     "name": "stdout",
     "output_type": "stream",
     "text": [
      "Data generation complete.\n"
     ]
    }
   ],
   "source": [
    "import csv\n",
    "import random\n",
    "from datetime import datetime, timedelta\n",
    "import json\n",
    "\n",
    "# Generate data for 50 characters\n",
    "NUM_ROWS = 1000\n",
    "\n",
    "# Create the CSV file\n",
    "OUTPUT_FILE = \"troop_movements.csv\"\n",
    "\n",
    "\n",
    "def choose_a_side(home_world):\n",
    "    \"\"\"\n",
    "    Randomly choose an empire or resistance side based on the likelihood \n",
    "    that someone from that world would join the rebel alliance.\n",
    "    Args:\n",
    "        home_world (dict): The home world data for the character.\n",
    "    Returns:\n",
    "        str: The empire or resistance side.\n",
    "    \"\"\"\n",
    "    if home_world[\"rebel_likelihood\"] > random.random():\n",
    "        return \"resistance\"\n",
    "    else:\n",
    "        return \"empire\"\n",
    "\n",
    "\n",
    "# Load home world data from JSON file\n",
    "with open(\"home_worlds.json\") as json_file:\n",
    "    home_worlds = json.load(json_file)\n",
    "\n",
    "# Generate data rows\n",
    "data_rows = []\n",
    "for i in range(1, NUM_ROWS + 1):\n",
    "    # Generate random values for each column\n",
    "    timestamp = datetime.now() - timedelta(seconds=i)\n",
    "    unit_id = i\n",
    "    unit_type = random.choice(\n",
    "        [\"stormtrooper\", \"tie_fighter\", \"at-st\", \"x-wing\",\n",
    "            \"resistance_soldier\", \"at-at\", \"tie_silencer\", \"unknown\"]\n",
    "    )\n",
    "    location_x = random.randint(1, 10)\n",
    "    location_y = random.randint(1, 10)\n",
    "    destination_x = random.randint(1, 10)\n",
    "    destination_y = random.randint(1, 10)\n",
    "\n",
    "    # Select a random home world from the available options\n",
    "    home_world = random.choice(home_worlds)\n",
    "    home_world_name = home_world[\"name\"]\n",
    "    empire_or_resistance = choose_a_side(home_world)\n",
    "\n",
    "    # Create the data row\n",
    "    data_row = [\n",
    "        timestamp.strftime(\"%Y-%m-%d %H:%M:%S\"),\n",
    "        unit_id,\n",
    "        unit_type,\n",
    "        empire_or_resistance,\n",
    "        location_x,\n",
    "        location_y,\n",
    "        destination_x,\n",
    "        destination_y,\n",
    "        home_world_name,\n",
    "    ]\n",
    "\n",
    "    # Add the data row to the list\n",
    "    data_rows.append(data_row)\n",
    "\n",
    "# Write the data to the CSV file\n",
    "with open(OUTPUT_FILE, \"w\", newline=\"\") as file:\n",
    "    writer = csv.writer(file)\n",
    "    writer.writerow(\n",
    "        [\"timestamp\", \"unit_id\", \"unit_type\", \"empire_or_resistance\", \"location_x\", \"location_y\", \"destination_x\",\n",
    "         \"destination_y\", \"homeworld\"]\n",
    "    )\n",
    "    writer.writerows(data_rows)\n",
    "\n",
    "print(\"Data generation complete.\")"
   ]
  },
  {
   "cell_type": "code",
   "execution_count": null,
   "id": "405d0cc2",
   "metadata": {},
   "outputs": [],
   "source": []
  }
 ],
 "metadata": {
  "kernelspec": {
   "display_name": "Python 3 (ipykernel)",
   "language": "python",
   "name": "python3"
  },
  "language_info": {
   "codemirror_mode": {
    "name": "ipython",
    "version": 3
   },
   "file_extension": ".py",
   "mimetype": "text/x-python",
   "name": "python",
   "nbconvert_exporter": "python",
   "pygments_lexer": "ipython3",
   "version": "3.10.9"
  }
 },
 "nbformat": 4,
 "nbformat_minor": 5
}
